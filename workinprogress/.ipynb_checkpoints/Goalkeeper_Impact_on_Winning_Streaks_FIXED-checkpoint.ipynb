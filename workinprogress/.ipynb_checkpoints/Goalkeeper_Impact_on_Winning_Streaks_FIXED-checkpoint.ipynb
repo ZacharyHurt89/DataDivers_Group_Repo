{
 "cells": [
  {
   "cell_type": "markdown",
   "id": "68282117",
   "metadata": {},
   "source": [
    "# Goalkeeper Impact on Winning Streaks\n",
    "\n",
    "### Data Divers Group Project\n",
    "\n",
    "**Research Question #2**: *How does the importance of goalkeepers contribute to winning streaks?*\n",
    "\n",
    "This notebook explores how goalkeeper performance influences team success, particularly focusing on winning streaks in the FIFA World Cup dataset."
   ]
  },
  {
   "cell_type": "code",
   "execution_count": 13,
   "id": "371ba9ca",
   "metadata": {},
   "outputs": [],
   "source": [
    "# Importing libraries\n",
    "import pandas as pd\n",
    "import numpy as np\n",
    "import matplotlib.pyplot as plt\n",
    "import seaborn as sns\n",
    "import sqlite3\n",
    "import os\n",
    "\n",
    "# Set up visual style\n",
    "sns.set(style='whitegrid')"
   ]
  },
  {
   "cell_type": "code",
   "execution_count": 27,
   "id": "149a19cc",
   "metadata": {},
   "outputs": [],
   "source": [
    "# Load dataset\n",
    "fifa_df = pd.read_csv('/mnt/data/fifa_world_cup.csv')\n",
    "fifa_df.head()"
   ]
  },
  {
   "cell_type": "code",
   "execution_count": 31,
   "id": "c9303d3b-0c54-41a0-9740-6ab66216a06a",
   "metadata": {},
   "outputs": [
    {
     "name": "stdout",
     "output_type": "stream",
     "text": [
      "Shape of the dataset: (23921, 25)\n",
      "columns in the dataset: ['date', 'home_team', 'away_team', 'home_team_continent', 'away_team_continent', 'home_team_fifa_rank', 'away_team_fifa_rank', 'home_team_total_fifa_points', 'away_team_total_fifa_points', 'home_team_score', 'away_team_score', 'tournament', 'city', 'country', 'neutral_location', 'shoot_out', 'home_team_result', 'home_team_goalkeeper_score', 'away_team_goalkeeper_score', 'home_team_mean_defense_score', 'home_team_mean_offense_score', 'home_team_mean_midfield_score', 'away_team_mean_defense_score', 'away_team_mean_offense_score', 'away_team_mean_midfield_score']\n"
     ]
    }
   ],
   "source": [
    "# Print the shape of the DataFrame and the column names\n",
    "print('Shape of the dataset:', fifa_df.shape)\n",
    "print('\\nColumn names:')\n",
    "print(fifa_df.columns.tolist())"
   ]
  },
  {
   "cell_type": "markdown",
   "id": "f16d8b52",
   "metadata": {},
   "source": [
    "## Step 1: Data Overview and Goalkeeper-Related Features\n",
    "We'll start by examining the dataset and identifying columns related to goalkeepers, such as saves, goals conceded, clean sheets, etc."
   ]
  },
  {
   "cell_type": "code",
   "execution_count": 33,
   "id": "57b089d5",
   "metadata": {},
   "outputs": [
    {
     "ename": "NameError",
     "evalue": "name 'df' is not defined",
     "output_type": "error",
     "traceback": [
      "\u001b[0;31m---------------------------------------------------------------------------\u001b[0m",
      "\u001b[0;31mNameError\u001b[0m                                 Traceback (most recent call last)",
      "Cell \u001b[0;32mIn[33], line 2\u001b[0m\n\u001b[1;32m      1\u001b[0m \u001b[38;5;66;03m# Display dataset columns and check for goalkeeper-related features\u001b[39;00m\n\u001b[0;32m----> 2\u001b[0m df\u001b[38;5;241m.\u001b[39mcolumns\n",
      "\u001b[0;31mNameError\u001b[0m: name 'df' is not defined"
     ]
    }
   ],
   "source": [
    "# Display dataset columns and check for goalkeeper-related features\n",
    "fifa_df.columns"
   ]
  },
  {
   "cell_type": "markdown",
   "id": "4e167ede",
   "metadata": {},
   "source": [
    "### We'll explore columns such as:\n",
    "- `clean_sheets`\n",
    "- `saves`\n",
    "- `goals_conceded`\n",
    "\n",
    "(If these columns aren't present, we'll adjust based on available data.)"
   ]
  },
  {
   "cell_type": "markdown",
   "id": "31ee592f",
   "metadata": {},
   "source": [
    "## Step 2: Define Winning Streaks\n",
    "We'll identify teams that have achieved winning streaks across tournaments."
   ]
  },
  {
   "cell_type": "code",
   "execution_count": null,
   "id": "e4bdc69c",
   "metadata": {},
   "outputs": [],
   "source": [
    "\n",
    "# Step: Compute Wins and Goalkeeper Scores\n",
    "\n",
    "# Assign win result as 1 for win, 0 for not win (draw/loss)\n",
    "fifa_df['home_win'] = fifa_df['home_team_result'].apply(lambda x: 1 if x == 'Win' else 0)\n",
    "fifa_df['away_win'] = fifa_df['home_team_result'].apply(lambda x: 1 if x == 'Lose' else 0)\n",
    "\n",
    "# Create long format for analysis\n",
    "home_df = fifa_df[['date', 'home_team', 'home_win', 'home_team_goalkeeper_score']].copy()\n",
    "home_df.columns = ['date', 'team', 'win', 'goalkeeper_score']\n",
    "\n",
    "away_df = fifa_df[['date', 'away_team', 'away_win', 'away_team_goalkeeper_score']].copy()\n",
    "away_df.columns = ['date', 'team', 'win', 'goalkeeper_score']\n",
    "\n",
    "combined_df = pd.concat([home_df, away_df])\n",
    "\n",
    "# Aggregate wins and average goalkeeper score per team\n",
    "team_stats = combined_df.groupby('team').agg({\n",
    "    'win': 'sum',\n",
    "    'goalkeeper_score': 'mean'\n",
    "}).reset_index()\n",
    "\n",
    "team_stats = team_stats.rename(columns={'win': 'total_wins', 'goalkeeper_score': 'avg_goalkeeper_score'})\n",
    "team_stats.sort_values(by='total_wins', ascending=False).head()\n"
   ]
  },
  {
   "cell_type": "markdown",
   "id": "4348086f",
   "metadata": {},
   "source": [
    "## Step 3: Correlation Analysis\n",
    "We'll analyze how goalkeeper stats correlate with win totals."
   ]
  },
  {
   "cell_type": "code",
   "execution_count": null,
   "id": "66f68fd6",
   "metadata": {},
   "outputs": [],
   "source": [
    "\n",
    "# Correlation between goalkeeper performance and wins\n",
    "import matplotlib.pyplot as plt\n",
    "import seaborn as sns\n",
    "\n",
    "plt.figure(figsize=(6, 5))\n",
    "sns.heatmap(team_stats[['total_wins', 'avg_goalkeeper_score']].corr(), annot=True, cmap='Blues')\n",
    "plt.title('Correlation Between Wins and Goalkeeper Score')\n",
    "plt.show()\n"
   ]
  },
  {
   "cell_type": "markdown",
   "id": "2f8278ff",
   "metadata": {},
   "source": [
    "## Step 4: Visualizations\n",
    "Visualize clean sheets and saves against win totals."
   ]
  },
  {
   "cell_type": "code",
   "execution_count": null,
   "id": "68b37e26",
   "metadata": {},
   "outputs": [],
   "source": [
    "\n",
    "# Plot: Avg Goalkeeper Score vs Wins\n",
    "plt.figure(figsize=(8,6))\n",
    "sns.scatterplot(data=team_stats, x='avg_goalkeeper_score', y='total_wins')\n",
    "plt.title('Goalkeeper Score vs Total Wins')\n",
    "plt.xlabel('Average Goalkeeper Score')\n",
    "plt.ylabel('Total Wins')\n",
    "plt.show()\n"
   ]
  },
  {
   "cell_type": "code",
   "execution_count": null,
   "id": "a741ba22",
   "metadata": {},
   "outputs": [],
   "source": [
    "\n",
    "# Highlight Top Performing Teams\n",
    "top_teams = team_stats.sort_values(by='total_wins', ascending=False).head(10)\n",
    "sns.barplot(data=top_teams, x='avg_goalkeeper_score', y='team', palette='viridis')\n",
    "plt.title('Top Teams: Goalkeeper Score vs Team')\n",
    "plt.xlabel('Avg Goalkeeper Score')\n",
    "plt.ylabel('Team')\n",
    "plt.show()\n"
   ]
  },
  {
   "cell_type": "markdown",
   "id": "3584f307",
   "metadata": {},
   "source": [
    "## Step 5: Conclusion\n",
    "Based on our analysis, we can interpret the importance of goalkeeper performance in contributing to winning streaks in the World Cup.\n",
    "\n",
    "We'll summarize key findings here once the full analysis is done."
   ]
  }
 ],
 "metadata": {
  "kernelspec": {
   "display_name": "Python [conda env:base] *",
   "language": "python",
   "name": "conda-base-py"
  },
  "language_info": {
   "codemirror_mode": {
    "name": "ipython",
    "version": 3
   },
   "file_extension": ".py",
   "mimetype": "text/x-python",
   "name": "python",
   "nbconvert_exporter": "python",
   "pygments_lexer": "ipython3",
   "version": "3.12.7"
  }
 },
 "nbformat": 4,
 "nbformat_minor": 5
}
